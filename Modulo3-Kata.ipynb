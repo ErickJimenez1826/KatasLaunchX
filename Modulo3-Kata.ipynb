{
 "cells": [
  {
   "cell_type": "code",
   "execution_count": 24,
   "metadata": {},
   "outputs": [
    {
     "name": "stdout",
     "output_type": "stream",
     "text": [
      "un asteroide se acerca a la Tierra demasiado rápido, a una velocidad de 49 km/s\n"
     ]
    }
   ],
   "source": [
    "#velocidad = input(\"¿Cual es la velocidad del asteroide?\")\n",
    "velocidad=49\n",
    "velmax=25\n",
    "\n",
    "if int(velocidad) > velmax:\n",
    "    print(\"un asteroide se acerca a la Tierra demasiado rápido, a una velocidad de \" + str(velocidad) + \" km/s\")\n",
    "else:\n",
    "    print(\"Todo en orden con el asteroide\")"
   ]
  },
  {
   "cell_type": "code",
   "execution_count": 1,
   "metadata": {},
   "outputs": [
    {
     "name": "stdout",
     "output_type": "stream",
     "text": [
      "Todo en orden\n"
     ]
    }
   ],
   "source": [
    "# Agrega el código para crear una variable para un asteroide que viaja a 19 km/s\n",
    "# Escribe varias expresiones de prueba para determinar si puedes ver el rayo de luz desde la tierra\n",
    "# Agrega las instrucciones que se ejecutarán si las expresiones de prueba son True o False\n",
    "\n",
    "#velocidad = input(\"¿Cual es la velocidad del asteroide?\")\n",
    "velocidad=19\n",
    "velMax=20\n",
    "\n",
    "if int(velocidad) > velMax:\n",
    "    print(\"Mira al cielo! se vera un asteroide pasar!!\")\n",
    "elif int(velocidad) == velMax:\n",
    "    print(\"Mira al cielo! se vera un asteroide pasar!!\")\n",
    "else:\n",
    "    print(\"Todo en orden\")"
   ]
  },
  {
   "cell_type": "code",
   "execution_count": 26,
   "metadata": {},
   "outputs": [
    {
     "name": "stdout",
     "output_type": "stream",
     "text": [
      "Mira al cielo! se vera un asteroide pasar!!\n"
     ]
    }
   ],
   "source": [
    "velocidad = 25\n",
    "tamano = 40\n",
    "if velocidad > 25 and tamano > 25:\n",
    "    print(\"Atencion, un asteroide viene peligrosamente a la Tierra\")\n",
    "elif velocidad >= 20:\n",
    "    print(\"Mira al cielo! se vera un asteroide pasar!!\")\n",
    "elif tamano < 25:\n",
    "    print(\"Todo OK!!\")\n",
    "else:\n",
    "    print(\"Todo OK!!\")"
   ]
  }
 ],
 "metadata": {
  "interpreter": {
   "hash": "291e79d869f9e0d7260372438f2fd569059756c7ff63438eda372db04e414d8a"
  },
  "kernelspec": {
   "display_name": "Python 3.10.2 64-bit",
   "language": "python",
   "name": "python3"
  },
  "language_info": {
   "codemirror_mode": {
    "name": "ipython",
    "version": 3
   },
   "file_extension": ".py",
   "mimetype": "text/x-python",
   "name": "python",
   "nbconvert_exporter": "python",
   "pygments_lexer": "ipython3",
   "version": "3.10.2"
  },
  "orig_nbformat": 4
 },
 "nbformat": 4,
 "nbformat_minor": 2
}
