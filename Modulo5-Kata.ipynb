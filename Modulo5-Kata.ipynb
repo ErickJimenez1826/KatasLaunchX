{
 "cells": [
  {
   "cell_type": "markdown",
   "metadata": {},
   "source": [
    "# Ejercicio 1"
   ]
  },
  {
   "cell_type": "code",
   "execution_count": 1,
   "metadata": {},
   "outputs": [],
   "source": [
    "#Tierra (149.597.870 km) y Júpiter (778.547.200 km).\n",
    "distTierra=149597870\n",
    "distJupiter=778547200"
   ]
  },
  {
   "cell_type": "code",
   "execution_count": 10,
   "metadata": {},
   "outputs": [
    {
     "name": "stdout",
     "output_type": "stream",
     "text": [
      "628949330\n",
      "390577534\n"
     ]
    }
   ],
   "source": [
    "from math import ceil, floor\n",
    "distKm=distJupiter-distTierra\n",
    "distKm\n",
    "distMi=ceil(distKm*0.621)\n",
    "print(distKm)\n",
    "print(distMi)"
   ]
  },
  {
   "cell_type": "markdown",
   "metadata": {},
   "source": [
    "# Ejercicio 2"
   ]
  },
  {
   "cell_type": "markdown",
   "metadata": {},
   "source": [
    "Leer la distancia del sol para dos planetas, y luego mostrar la distancia entre los planetas."
   ]
  },
  {
   "cell_type": "code",
   "execution_count": 14,
   "metadata": {},
   "outputs": [
    {
     "name": "stdout",
     "output_type": "stream",
     "text": [
      "La distancia entre los planetas es 1 Km o 1 Millas\n"
     ]
    }
   ],
   "source": [
    "# Almacenar las entradas del usuario\n",
    "distP1=input(\"¿Cual es la distancia entre el 1er planeta y el sol en Km?\")\n",
    "distP2=input(\"¿Cual es la distancia entre el 2o planeta y el sol en Km?\")\n",
    "\n",
    "# Convierte las cadenas de ambos planetas a números enteros\n",
    "# Realizar el cálculo y determinar el valor absoluto\n",
    "distKm=abs(int(distP2)-int(distP1))\n",
    "\n",
    "# Convertir de KM a Millas\n",
    "distMi=ceil(distKm*0.621)\n",
    "#Mostrar resultados\n",
    "print(f\"La distancia entre los planetas es {distKm} Km o {distMi} Millas\")"
   ]
  }
 ],
 "metadata": {
  "interpreter": {
   "hash": "291e79d869f9e0d7260372438f2fd569059756c7ff63438eda372db04e414d8a"
  },
  "kernelspec": {
   "display_name": "Python 3.10.2 64-bit",
   "language": "python",
   "name": "python3"
  },
  "language_info": {
   "codemirror_mode": {
    "name": "ipython",
    "version": 3
   },
   "file_extension": ".py",
   "mimetype": "text/x-python",
   "name": "python",
   "nbconvert_exporter": "python",
   "pygments_lexer": "ipython3",
   "version": "3.10.2"
  },
  "orig_nbformat": 4
 },
 "nbformat": 4,
 "nbformat_minor": 2
}
