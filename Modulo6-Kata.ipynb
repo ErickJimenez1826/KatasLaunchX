{
 "cells": [
  {
   "cell_type": "markdown",
   "metadata": {},
   "source": [
    "# Ejercicio 1"
   ]
  },
  {
   "cell_type": "code",
   "execution_count": 11,
   "metadata": {},
   "outputs": [
    {
     "name": "stdout",
     "output_type": "stream",
     "text": [
      "['Mercurio', 'Venus', 'Tierra', 'Marte', 'Jupiter', 'Saturno', 'Urano', 'Neptuno']\n"
     ]
    }
   ],
   "source": [
    "# Creamos la lista planets y la mostramos\n",
    "planets=['Mercurio','Venus','Tierra','Marte','Jupiter','Saturno','Urano','Neptuno']\n",
    "print(planets)"
   ]
  },
  {
   "cell_type": "code",
   "execution_count": 12,
   "metadata": {},
   "outputs": [
    {
     "name": "stdout",
     "output_type": "stream",
     "text": [
      "Hay 9 planetas registrados y el ultimo es Pluton\n"
     ]
    }
   ],
   "source": [
    "#Agrega a Plutón a la lista que creaste. Luego muestra tanto el número de planetas como el último planeta de la lista.\n",
    "# Agregamos a plutón y mostramos el último elemento\n",
    "planets.append('Pluton')\n",
    "print(f\"Hay {len(planets)} planetas registrados y el ultimo es {planets[-1]}\")"
   ]
  },
  {
   "cell_type": "markdown",
   "metadata": {},
   "source": [
    "# Ejercicio 2"
   ]
  },
  {
   "cell_type": "code",
   "execution_count": 20,
   "metadata": {},
   "outputs": [],
   "source": [
    "# Lista de planetas\n",
    "planets = ['Mercury', 'Venus', 'Earth', 'Mars', 'Jupiter', 'Saturn', 'Neptune']"
   ]
  },
  {
   "cell_type": "code",
   "execution_count": 26,
   "metadata": {},
   "outputs": [
    {
     "name": "stdout",
     "output_type": "stream",
     "text": [
      "Los planetas mas cercanos al sol,antes que Earth son:['Mercury', 'Venus']\n",
      "Los planetas mas lejanos al sol,despues que Earth son:['Mars', 'Jupiter', 'Saturn', 'Neptune']\n"
     ]
    }
   ],
   "source": [
    "# Solicitamos el nombre de un planeta *Pista:  input()*\n",
    "nomPlaneta=input(\"Escribe nombre del planeta a buscar, en inglés y la primer letra en mayuscula:\")\n",
    "nomPlaneta=nomPlaneta.capitalize()\n",
    "# Busca el planeta en la lista\n",
    "pos=planets.index(nomPlaneta)\n",
    "print(f\"Los planetas mas cercanos al sol,antes que {nomPlaneta} son:{planets[0:pos]}\")\n",
    "print(f\"Los planetas mas lejanos al sol,despues que {nomPlaneta} son:{planets[pos+1:]}\")"
   ]
  }
 ],
 "metadata": {
  "interpreter": {
   "hash": "291e79d869f9e0d7260372438f2fd569059756c7ff63438eda372db04e414d8a"
  },
  "kernelspec": {
   "display_name": "Python 3.10.2 64-bit",
   "language": "python",
   "name": "python3"
  },
  "language_info": {
   "codemirror_mode": {
    "name": "ipython",
    "version": 3
   },
   "file_extension": ".py",
   "mimetype": "text/x-python",
   "name": "python",
   "nbconvert_exporter": "python",
   "pygments_lexer": "ipython3",
   "version": "3.10.2"
  },
  "orig_nbformat": 4
 },
 "nbformat": 4,
 "nbformat_minor": 2
}
