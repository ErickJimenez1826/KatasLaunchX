{
 "cells": [
  {
   "cell_type": "code",
   "execution_count": 8,
   "metadata": {},
   "outputs": [],
   "source": [
    "# Función para leer 3 tanques de combustible y muestre el promedio\n",
    "def informe(tanque1,tanque2,tanque3):\n",
    "    promedioComb=(tanque1+tanque2+tanque3)/3\n",
    "    return(f\"\"\"\n",
    "    tanque 1: {tanque1}%\n",
    "    tanque 2: {tanque2}%\n",
    "    tanque 3: {tanque3}%\n",
    "    promedio total combustible {promedioComb}%\"\"\")"
   ]
  },
  {
   "cell_type": "code",
   "execution_count": 10,
   "metadata": {},
   "outputs": [
    {
     "name": "stdout",
     "output_type": "stream",
     "text": [
      "\n",
      "    tanque 1: 90%\n",
      "    tanque 2: 70%\n",
      "    tanque 3: 80%\n",
      "    promedio total combustible 80.0%\n"
     ]
    }
   ],
   "source": [
    "print(informe(90,70,80))"
   ]
  },
  {
   "cell_type": "code",
   "execution_count": 25,
   "metadata": {},
   "outputs": [],
   "source": [
    "def promedio(valores):\n",
    "    total = sum(valores)\n",
    "    items = len(valores)\n",
    "    return total / items\n",
    "\n",
    "#promedio([20,40,30,60])\n"
   ]
  },
  {
   "cell_type": "code",
   "execution_count": 26,
   "metadata": {},
   "outputs": [],
   "source": [
    "def informe(tanque1,tanque2,tanque3):\n",
    "    return(f\"\"\"Reporte de combustible:\n",
    "    tanque 1: {tanque1}%\n",
    "    tanque 2: {tanque2}%\n",
    "    tanque 3: {tanque3}%\n",
    "    promedio total de combustible: {promedio([tanque1,tanque2,tanque3])}%\"\"\")"
   ]
  },
  {
   "cell_type": "code",
   "execution_count": 28,
   "metadata": {},
   "outputs": [
    {
     "name": "stdout",
     "output_type": "stream",
     "text": [
      "Reporte de combustible:\n",
      "    tanque 1: 80%\n",
      "    tanque 2: 70%\n",
      "    tanque 3: 90%\n",
      "    promedio total de combustible: 80.0%\n"
     ]
    }
   ],
   "source": [
    "print(informe(80, 70, 90))"
   ]
  },
  {
   "cell_type": "markdown",
   "metadata": {},
   "source": [
    "### Ejercicio 2: Trabajo con argumentos de palabra clave"
   ]
  },
  {
   "cell_type": "code",
   "execution_count": 8,
   "metadata": {},
   "outputs": [
    {
     "name": "stdout",
     "output_type": "stream",
     "text": [
      "\n",
      "    Mision hacia Luna\n",
      "    Tiempo total del viaje: 65 minutos\n",
      "    Combustible total: 55000 litros\n",
      "    \n"
     ]
    }
   ],
   "source": [
    "# Función con un informe preciso de la misión. Considera hora de prelanzamiento, tiempo de vuelo, \n",
    "# destino, tanque externo y tanque interno\n",
    "\n",
    "def informe_viaje(hora_prelanzamiento,tiempo_vuelo,destino,tanque_ext,tanque_int):\n",
    "    return f\"\"\"\n",
    "    Mision hacia {destino}\n",
    "    Tiempo total del viaje: {hora_prelanzamiento+ tiempo_vuelo} minutos\n",
    "    Combustible total: {tanque_ext + tanque_int} litros\n",
    "    \"\"\"\n",
    "\n",
    "print(informe_viaje(14, 51, \"Luna\", 25000, 30000))"
   ]
  },
  {
   "cell_type": "code",
   "execution_count": 9,
   "metadata": {},
   "outputs": [
    {
     "name": "stdout",
     "output_type": "stream",
     "text": [
      "\n",
      "    Mision hacia Luna\n",
      "    Tiempo total del viaje: 76 minutos\n",
      "    Combustible total: 310000\n",
      "    \n"
     ]
    }
   ],
   "source": [
    "def informe_viaje(destino, *minutos, **reservas_comb):\n",
    "    return f\"\"\"\n",
    "    Mision hacia {destino}\n",
    "    Tiempo total del viaje: {sum(minutos)} minutos\n",
    "    Combustible total: {sum(reservas_comb.values())}\n",
    "    \"\"\"\n",
    "\n",
    "print(informe_viaje(\"Luna\", 10, 15, 51, principal=80000, secundario=230000))"
   ]
  },
  {
   "cell_type": "code",
   "execution_count": 14,
   "metadata": {},
   "outputs": [
    {
     "name": "stdout",
     "output_type": "stream",
     "text": [
      "\n",
      "    Mision hacia Luna\n",
      "    Tiempo total del viaje: 74 minutos\n",
      "    Combustible total: 600000\n",
      "    tanque principal --> 340000 litros restantes\n",
      "tanque secundario --> 260000 litros restantes\n",
      "\n"
     ]
    }
   ],
   "source": [
    "def informe_viaje(destino, *minutos, **reservas_comb):\n",
    "    main_report = f\"\"\"\n",
    "    Mision hacia {destino}\n",
    "    Tiempo total del viaje: {sum(minutos)} minutos\n",
    "    Combustible total: {sum(reservas_comb.values())}\n",
    "    \"\"\"\n",
    "    for tank_name, litros in reservas_comb.items():\n",
    "        main_report += f\"tanque {tank_name} --> {litros} litros restantes\\n\"\n",
    "    return main_report\n",
    "\n",
    "print(informe_viaje(\"Luna\", 8, 11, 55, principal =340000, secundario=260000))"
   ]
  }
 ],
 "metadata": {
  "interpreter": {
   "hash": "291e79d869f9e0d7260372438f2fd569059756c7ff63438eda372db04e414d8a"
  },
  "kernelspec": {
   "display_name": "Python 3.10.2 64-bit",
   "language": "python",
   "name": "python3"
  },
  "language_info": {
   "codemirror_mode": {
    "name": "ipython",
    "version": 3
   },
   "file_extension": ".py",
   "mimetype": "text/x-python",
   "name": "python",
   "nbconvert_exporter": "python",
   "pygments_lexer": "ipython3",
   "version": "3.10.2"
  },
  "orig_nbformat": 4
 },
 "nbformat": 4,
 "nbformat_minor": 2
}
