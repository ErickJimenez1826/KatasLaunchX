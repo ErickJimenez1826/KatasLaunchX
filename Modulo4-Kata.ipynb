{
 "cells": [
  {
   "cell_type": "markdown",
   "metadata": {},
   "source": [
    "## Ejercicio 1"
   ]
  },
  {
   "cell_type": "code",
   "execution_count": 52,
   "metadata": {},
   "outputs": [
    {
     "name": "stdout",
     "output_type": "stream",
     "text": [
      "['Interesting facts about the Moon', \"The Moon is Earth's only satellite\", 'There are several interesting facts about the Moon and how it affects life here on Earth', '\\nOn average, the Moon moves 4cm away from the Earth every year', 'This yearly drift is not significant enough to cause immediate effects on Earth', 'The highest daylight temperature of the Moon is 127 C.']\n"
     ]
    }
   ],
   "source": [
    "text = \"\"\"Interesting facts about the Moon. The Moon is Earth's only satellite. There are several interesting facts about the Moon and how it affects life here on Earth. \n",
    "On average, the Moon moves 4cm away from the Earth every year. This yearly drift is not significant enough to cause immediate effects on Earth. The highest daylight temperature of the Moon is 127 C.\"\"\"\n",
    "\n",
    "cadena=text.split(\". \")\n",
    "print(cadena)\n",
    "\n"
   ]
  },
  {
   "cell_type": "code",
   "execution_count": 59,
   "metadata": {},
   "outputs": [
    {
     "name": "stdout",
     "output_type": "stream",
     "text": [
      "\n",
      "On average, the Moon moves 4cm away from the Earth every year\n",
      "The highest daylight temperature of the Moon is 127 C.\n"
     ]
    }
   ],
   "source": [
    "# Define las palabras pista: average, temperature y distance suenan bien\n",
    "palabraBuscar=['average','temperature','distance']\n",
    "\n",
    "#Cree un bucle para imprimir solo datos sobre la Luna que estén relacionados \n",
    "#con las palabras clave definidas anteriormente:\n",
    "for cadenaAsignacion in cadena:\n",
    "    for palabraAsignacion in palabraBuscar:\n",
    "        if palabraAsignacion in cadenaAsignacion:\n",
    "            print(cadenaAsignacion)\n",
    "            break"
   ]
  },
  {
   "cell_type": "code",
   "execution_count": 61,
   "metadata": {},
   "outputs": [
    {
     "name": "stdout",
     "output_type": "stream",
     "text": [
      "\n",
      "On average, the Moon moves 4cm away from the Earth every year\n",
      "The highest daylight temperature of the Moon is 127 Celsius \n"
     ]
    }
   ],
   "source": [
    "# Ciclo para cambiar C a Celsius\n",
    "for cadenaAsignacion in cadena:\n",
    "    for palabraAsignacion in palabraBuscar:\n",
    "        if palabraAsignacion in cadenaAsignacion:\n",
    "            print(cadenaAsignacion.replace(\" C.\",\" Celsius \"))\n",
    "            break"
   ]
  },
  {
   "cell_type": "markdown",
   "metadata": {},
   "source": [
    "## Ejercicio 2"
   ]
  },
  {
   "cell_type": "code",
   "execution_count": 83,
   "metadata": {},
   "outputs": [],
   "source": [
    "# Datos con los que vas a trabajar\n",
    "name = \"Moon\"\n",
    "gravity = 0.00162 # in kms\n",
    "planet = \"Earth\"\n",
    "\n"
   ]
  },
  {
   "cell_type": "code",
   "execution_count": 84,
   "metadata": {},
   "outputs": [
    {
     "name": "stdout",
     "output_type": "stream",
     "text": [
      "Gravity Facts About Moon\n",
      "-------------------------------------------------------------------------------- \n",
      "Planet Name: Earth \n",
      "Gravity on Moon: 1.6199999999999999 m/s2 \n",
      "\n"
     ]
    }
   ],
   "source": [
    "# Creamos el título\n",
    "titulo = f\"Gravity Facts about {name}\"\n",
    "\n",
    "# Creamos la plantilla\n",
    "plantilla = f\"\"\"{'-'*80} \n",
    "Planet Name: {planet} \n",
    "Gravity on {name}: {gravity * 1000} m/s2 \n",
    "\"\"\"\n",
    "# Unión de ambas cadenas\n",
    "texto=f\"{titulo.title()}\\n{plantilla}\"\n",
    "print(texto)"
   ]
  },
  {
   "cell_type": "code",
   "execution_count": 85,
   "metadata": {},
   "outputs": [],
   "source": [
    "planet = 'Marte '\n",
    "gravity  = 0.00143\n",
    "name = 'Ganímedes'"
   ]
  },
  {
   "cell_type": "code",
   "execution_count": 87,
   "metadata": {},
   "outputs": [
    {
     "name": "stdout",
     "output_type": "stream",
     "text": [
      "Gravity Facts About Moon\n",
      "-------------------------------------------------------------------------------- \n",
      "Planet Name: Earth \n",
      "Gravity on Moon: 1.6199999999999999 m/s2 \n",
      "\n"
     ]
    }
   ],
   "source": [
    "# Comprueba la plantilla\n",
    "# print(nombre_plantilla)\n",
    "print(texto)"
   ]
  },
  {
   "cell_type": "code",
   "execution_count": 98,
   "metadata": {},
   "outputs": [
    {
     "name": "stdout",
     "output_type": "stream",
     "text": [
      "Gravity Facts About Ganímedes\n",
      "-------------------------------------------------------------------------------- \n",
      "Planet Name: Marte  \n",
      "Gravity on Moon: 1.4300000000000002 m/s2 \n"
     ]
    }
   ],
   "source": [
    "#Creamos nueva plantilla con .format()\n",
    "# Creamos el título\n",
    "texto=\"\"\"Gravity Facts About {0}\n",
    "-------------------------------------------------------------------------------- \n",
    "Planet Name: {1} \n",
    "Gravity on Moon: {2} m/s2 \"\"\"\n",
    "\n",
    "print(texto.format(name,planet,gravity*1000))"
   ]
  }
 ],
 "metadata": {
  "interpreter": {
   "hash": "5cd6a8b9cd2a139210d401405e283aa7166d4be389b8417fdbdd84cdce50151e"
  },
  "kernelspec": {
   "display_name": "Python 3.10.2 ('env': venv)",
   "language": "python",
   "name": "python3"
  },
  "language_info": {
   "codemirror_mode": {
    "name": "ipython",
    "version": 3
   },
   "file_extension": ".py",
   "mimetype": "text/x-python",
   "name": "python",
   "nbconvert_exporter": "python",
   "pygments_lexer": "ipython3",
   "version": "3.10.2"
  },
  "orig_nbformat": 4
 },
 "nbformat": 4,
 "nbformat_minor": 2
}
